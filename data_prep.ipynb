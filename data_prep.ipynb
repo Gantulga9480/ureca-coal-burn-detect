{
 "cells": [
  {
   "cell_type": "markdown",
   "metadata": {},
   "source": [
    "Merge temperature, humidity data and annotation"
   ]
  },
  {
   "cell_type": "code",
   "execution_count": null,
   "metadata": {},
   "outputs": [],
   "source": [
    "import csv\n",
    "from datetime import datetime, timedelta\n",
    "\n",
    "datetime_data = []\n",
    "temp_data = []\n",
    "humd_data = []\n",
    "annot_data = []\n",
    "\n",
    "with open(\"test_temp.csv\", newline='') as f:\n",
    "  reader = csv.reader(f, delimiter=',')\n",
    "  for r in reader:\n",
    "    datetime_data.append(datetime.fromisoformat(r[0]))\n",
    "    temp_data.append(float(r[1]))\n",
    "\n",
    "with open(\"test_humd.csv\", newline='') as f:\n",
    "  reader = csv.reader(f, delimiter=',')\n",
    "  for r in reader:\n",
    "    humd_data.append(float(r[1]))\n",
    "\n",
    "with open(\"test_annot.csv\", newline='') as f:\n",
    "  reader = csv.reader(f, delimiter=',')\n",
    "  for r in reader:\n",
    "    annot_data.append(datetime.fromisoformat(r[0]))\n",
    "\n",
    "annot_res = []\n",
    "match_count = 0\n",
    "for i, dt in enumerate(datetime_data):\n",
    "  found_match = False\n",
    "  for annot in annot_data:\n",
    "    diff = annot - dt\n",
    "    if diff == timedelta(0, 0, 0, 0, 0, 0, 0):\n",
    "      annot_res.append(1)\n",
    "      found_match = True\n",
    "      match_count += 1\n",
    "      break\n",
    "  if not found_match:\n",
    "    annot_res.append(0)\n",
    "\n",
    "assert match_count == len(annot_data)\n",
    "\n",
    "with open('test_data.csv', 'w', newline='') as f:\n",
    "  writer = csv.writer(f)\n",
    "  for i in range(len(datetime_data)):\n",
    "    writer.writerow([datetime_data[i], temp_data[i], humd_data[i], annot_res[i]])"
   ]
  },
  {
   "cell_type": "markdown",
   "metadata": {},
   "source": [
    "Preprocess data"
   ]
  },
  {
   "cell_type": "code",
   "execution_count": null,
   "metadata": {},
   "outputs": [],
   "source": [
    "import numpy as np\n",
    "from utils import preprocess\n",
    "\n",
    "N = 18\n",
    "data_batch = []\n",
    "label = []\n",
    "\n",
    "d_5ger, t_5ger, h_5ger, a_5ger, _ = preprocess(\"dataset/new/5ail_data.csv\")\n",
    "for i in range(len(d_5ger) - (N - 1)):\n",
    "    data = []                               #  shape(4, N) ((feature, label), seq)\n",
    "    drop = False\n",
    "    label = a_5ger[i:i+N][N - 1]\n",
    "    if label == 0:\n",
    "        if np.random.random() >= 0.25:\n",
    "            continue\n",
    "    data.append(d_5ger[i:i+N])\n",
    "    data.append(t_5ger[i:i+N])\n",
    "    data.append(h_5ger[i:i+N])\n",
    "    data.append([label for _ in range(N)])\n",
    "    data_T = np.array(data).T               #  shape(N, 4) (seq, (feature, label))\n",
    "    data_batch.append(data_T)\n",
    "d_zurc, t_zurc, h_zurc, a_zurc, _ = preprocess(\"dataset/new/zuraach_data.csv\")\n",
    "for i in range(len(d_zurc) - (N - 1)):\n",
    "    data = []                               #  shape(4, N) ((feature, label), seq)\n",
    "    drop = False\n",
    "    label = a_zurc[i:i+N][N - 1]\n",
    "    if label == 0:\n",
    "        if np.random.random() >= 0.25:\n",
    "            continue\n",
    "    data.append(d_zurc[i:i+N])\n",
    "    data.append(t_zurc[i:i+N])\n",
    "    data.append(h_zurc[i:i+N])\n",
    "    data.append([label for _ in range(N)])\n",
    "    data_T = np.array(data).T               #  shape(N, 4) (seq, (feature, label))\n",
    "    data_batch.append(data_T)\n",
    "\n",
    "data_batch = np.array(data_batch)           #  shape(N, seq, (feature, label))\n",
    "label, count = np.unique(data_batch[:, :, -1][:, 0], return_counts=True)\n",
    "print(label, count / count.sum(), count, len(data_batch))\n",
    "\n",
    "np.save('dataset.npy', data_batch)"
   ]
  }
 ],
 "metadata": {
  "kernelspec": {
   "display_name": "coal-burn",
   "language": "python",
   "name": "python3"
  },
  "language_info": {
   "codemirror_mode": {
    "name": "ipython",
    "version": 3
   },
   "file_extension": ".py",
   "mimetype": "text/x-python",
   "name": "python",
   "nbconvert_exporter": "python",
   "pygments_lexer": "ipython3",
   "version": "3.8.18"
  }
 },
 "nbformat": 4,
 "nbformat_minor": 2
}
