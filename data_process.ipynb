{
 "cells": [
  {
   "cell_type": "code",
   "execution_count": 1,
   "metadata": {},
   "outputs": [],
   "source": [
    "import csv\n",
    "import numpy as np\n",
    "from datetime import datetime as dt"
   ]
  },
  {
   "cell_type": "code",
   "execution_count": 2,
   "metadata": {},
   "outputs": [
    {
     "name": "stdout",
     "output_type": "stream",
     "text": [
      "34.46\n",
      "54.88\n"
     ]
    }
   ],
   "source": [
    "data_paths = [\n",
    "    '2023-07-05_raw.csv',\n",
    "    '2023-07-06_raw.csv',\n",
    "    '2023-07-07_raw.csv',\n",
    "    '2023-07-08_raw.csv',\n",
    "    '2023-07-09_raw.csv',\n",
    "    '2023-07-10_raw.csv',\n",
    "    '2023-07-11_raw.csv',\n",
    "    '2023-07-12_raw.csv',\n",
    "    '2023-07-13_raw.csv',\n",
    "    '2023-07-14_raw.csv',\n",
    "    '2023-07-15_raw.csv'\n",
    "]\n",
    "\n",
    "date_data = []\n",
    "temp_data = []\n",
    "humd_data = []\n",
    "power_data = []\n",
    "\n",
    "for path in data_paths:\n",
    "    date_data_t = []\n",
    "    temp_data_t = []\n",
    "    humd_data_t = []\n",
    "    power_data_t = []\n",
    "    with open(f'zuraach_ail2/{path}', 'r') as f:\n",
    "        reader = csv.reader(f)\n",
    "        for row in reader:\n",
    "            d, t, h, p = row\n",
    "            d = dt.fromisoformat(d)\n",
    "            d = d.hour + d.minute / 60\n",
    "            date_data_t.append(d)\n",
    "            temp_data_t.append(float(t))\n",
    "            humd_data_t.append(float(h))\n",
    "            power_data_t.append(float(p))\n",
    "    date_data.extend(date_data_t)\n",
    "    temp_data.extend(temp_data_t)\n",
    "    humd_data.extend(humd_data_t)\n",
    "    power_data.extend(power_data_t)\n",
    "dn = np.array(date_data) / 24\n",
    "tn = np.array(temp_data)\n",
    "print(tn.max())\n",
    "tn /= tn.max()\n",
    "hn = np.array(humd_data)\n",
    "print(hn.max())\n",
    "hn /= hn.max()\n",
    "pn = np.array(power_data) / 1.8\n",
    "\n",
    "dn_list = dn.tolist()\n",
    "tn_list = tn.tolist()\n",
    "hn_list = hn.tolist()\n",
    "pn_list = pn.tolist()"
   ]
  },
  {
   "cell_type": "code",
   "execution_count": 3,
   "metadata": {},
   "outputs": [],
   "source": [
    "WINDOW = 7\n",
    "\n",
    "data_batch = []\n",
    "label = []\n",
    "for i in range(len(dn_list) - (WINDOW - 1)):\n",
    "    data = []                               #  shape(4, 6) ((feature, label), seq)\n",
    "    drop = False\n",
    "    label = 0\n",
    "    if pn_list[i:i+WINDOW][0] >= 0.6:\n",
    "        label = 1\n",
    "    else:\n",
    "        if np.random.random() <= 1:  # 0.14\n",
    "            label = 0\n",
    "        else:\n",
    "            drop = True\n",
    "    if not drop:\n",
    "        data.append(dn_list[i:i+WINDOW])\n",
    "        data.append(tn_list[i:i+WINDOW])\n",
    "        data.append(hn_list[i:i+WINDOW])\n",
    "        data.append([label for _ in range(WINDOW)])\n",
    "        data_T = np.array(data).T            #  shape(6, 4) (seq, (feature, label))\n",
    "        data_batch.append(data_T)\n",
    "data_batch = np.array(data_batch)            #  shape(N, seq, (feature, label))"
   ]
  },
  {
   "cell_type": "code",
   "execution_count": 4,
   "metadata": {},
   "outputs": [
    {
     "data": {
      "text/plain": [
       "(array([0., 1.]),\n",
       " array([0.8806728, 0.1193272]),\n",
       " array([2775,  376], dtype=int64))"
      ]
     },
     "execution_count": 4,
     "metadata": {},
     "output_type": "execute_result"
    }
   ],
   "source": [
    "label, count = np.unique(data_batch[:, :, -1][:, 0], return_counts=True)\n",
    "label, count / count.sum(), count"
   ]
  },
  {
   "cell_type": "code",
   "execution_count": 5,
   "metadata": {},
   "outputs": [
    {
     "data": {
      "text/plain": [
       "3151"
      ]
     },
     "execution_count": 5,
     "metadata": {},
     "output_type": "execute_result"
    }
   ],
   "source": [
    "np.save('dataset_all.npy', data_batch)\n",
    "len(data_batch)"
   ]
  },
  {
   "cell_type": "code",
   "execution_count": null,
   "metadata": {},
   "outputs": [],
   "source": []
  }
 ],
 "metadata": {
  "kernelspec": {
   "display_name": "base",
   "language": "python",
   "name": "python3"
  },
  "language_info": {
   "codemirror_mode": {
    "name": "ipython",
    "version": 3
   },
   "file_extension": ".py",
   "mimetype": "text/x-python",
   "name": "python",
   "nbconvert_exporter": "python",
   "pygments_lexer": "ipython3",
   "version": "3.9.16"
  },
  "orig_nbformat": 4
 },
 "nbformat": 4,
 "nbformat_minor": 2
}
