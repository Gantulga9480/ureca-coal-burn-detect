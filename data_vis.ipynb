{
 "cells": [
  {
   "cell_type": "code",
   "execution_count": null,
   "metadata": {},
   "outputs": [],
   "source": [
    "from datetime import datetime as dt\n",
    "import numpy as np\n",
    "import csv\n",
    "import matplotlib.pyplot as plt\n",
    "from scipy.fft import fft, fftfreq\n",
    "\n",
    "def moving_average(x, w) -> np.ndarray:\n",
    "    return np.convolve(x, np.ones(w), 'valid') / w\n",
    "\n",
    "def load_csv(file):\n",
    "    datetime = []\n",
    "    temp = []\n",
    "    humd = []\n",
    "    power = []\n",
    "    with open(file, 'r') as f:\n",
    "        reader = csv.reader(f)\n",
    "        for row in reader:\n",
    "            d, t, h, p = row\n",
    "            datetime.append(dt.fromisoformat(d).timestamp())\n",
    "            temp.append(float(t))\n",
    "            humd.append(float(h))\n",
    "            power.append(float(p))\n",
    "    return (datetime, temp, humd, power)\n",
    "\n",
    "def plot(x, y, title):\n",
    "    data_copy = np.array(y)\n",
    "    data_norm = (data_copy - data_copy.mean()) / data_copy.max()\n",
    "\n",
    "    yf = fft(data_norm)\n",
    "    xf = fftfreq(len(yf), 1 / 288)[:len(yf)//2]\n",
    "    yf = np.abs(yf[:len(yf)//2])\n",
    "\n",
    "    fig, axs = plt.subplots(1, 3, tight_layout=True)\n",
    "    fig.set_figwidth(20)\n",
    "    fig.suptitle(title)\n",
    "\n",
    "    print(f\"Mean: {np.mean(y).round(4)}\")\n",
    "    print(f\"FFT (max): {xf[np.argmax(yf)]}\")\n",
    "\n",
    "    axs[0].set_title(\"Time series\")\n",
    "    axs[0].axis([0, 24, None, None])\n",
    "    axs[0].axhline(y=np.mean(y), c='r', label='mean')\n",
    "    axs[0].legend()\n",
    "    axs[0].plot(x, y)\n",
    "    axs[1].set_title(\"Histogram\")\n",
    "    axs[1].axvline(x=np.mean(y), c='r', label='mean')\n",
    "    axs[1].legend()\n",
    "    axs[1].hist(y)\n",
    "    axs[2].set_title(\"FFT\")\n",
    "    axs[2].axvline(x=xf[np.argmax(yf)], c='r', label='max')\n",
    "    axs[2].legend()\n",
    "    axs[2].plot(xf, yf / yf.max())"
   ]
  },
  {
   "cell_type": "markdown",
   "metadata": {},
   "source": [
    "Find label index"
   ]
  },
  {
   "cell_type": "code",
   "execution_count": null,
   "metadata": {},
   "outputs": [],
   "source": [
    "time_table = {\n",
    "    '2023-05-29': ['06:30:00', '18:00:00'],\n",
    "    '2023-05-30': ['07:00:00', '19:00:00'],\n",
    "    '2023-05-31': ['06:00:00', '20:00:00'],\n",
    "    '2023-06-01': ['07:30:00', '18:00:00'],\n",
    "    '2023-06-02': ['08:00:00', '19:00:00'],\n",
    "    '2023-06-03': ['06:00:00', '21:00:00'],\n",
    "    '2023-06-04': ['07:30:00', '22:00:00'],\n",
    "    '2023-06-05': ['05:00:00', '22:00:00'],\n",
    "    '2023-06-06': ['06:00:00', '21:00:00'],\n",
    "}"
   ]
  },
  {
   "cell_type": "code",
   "execution_count": null,
   "metadata": {},
   "outputs": [],
   "source": [
    "# from datetime import datetime as dt\n",
    "# import numpy as np\n",
    "\n",
    "# morning_datetime = dt.fromisoformat(f'{file} {time_table[file][0]}')\n",
    "# evening_datetime = dt.fromisoformat(f'{file} {time_table[file][1]}')\n",
    "\n",
    "# morning_diff_lst = []\n",
    "# evening_diff_lst = []\n",
    "\n",
    "# for item in datetime_data:\n",
    "#     d = dt.fromisoformat(item)\n",
    "#     m_diff = abs(d.timestamp() - morning_datetime.timestamp())\n",
    "#     e_diff = abs(d.timestamp() - evening_datetime.timestamp())\n",
    "#     morning_diff_lst.append(m_diff)\n",
    "#     evening_diff_lst.append(e_diff)\n",
    "\n",
    "# morning_index = np.argmin(morning_diff_lst)\n",
    "# evening_index = np.argmin(evening_diff_lst)\n",
    "# print(time_table[file])\n",
    "# datetime_data[morning_index].split(' ')[1], datetime_data[evening_index].split(' ')[1]"
   ]
  },
  {
   "attachments": {},
   "cell_type": "markdown",
   "metadata": {},
   "source": [
    "Load"
   ]
  },
  {
   "cell_type": "code",
   "execution_count": null,
   "metadata": {},
   "outputs": [],
   "source": [
    "file = '2023-07-05'\n",
    "datetime_data, temp_data, humd_data, power_data = load_csv(f\"zuraach_ail2/{file}_raw.csv\")"
   ]
  },
  {
   "cell_type": "code",
   "execution_count": null,
   "metadata": {},
   "outputs": [],
   "source": [
    "temp_x = [float(dt.fromtimestamp(item).hour) + float(dt.fromtimestamp(item).minute)/60 for item in datetime_data]\n",
    "plot(temp_x, temp_data, \"RAW TEMPERATURE DATA\")\n",
    "plot(temp_x, humd_data, \"RAW HUMIDITY DATA\")\n",
    "plot(temp_x, power_data, \"POWER\")"
   ]
  },
  {
   "cell_type": "code",
   "execution_count": null,
   "metadata": {},
   "outputs": [],
   "source": [
    "td = np.array(temp_data)\n",
    "hd = np.array(humd_data)\n",
    "nd = np.array(power_data)\n",
    "plt.plot(temp_x, td / td.max(), label='temp')\n",
    "plt.plot(temp_x, hd / hd.max(), label='humd')\n",
    "plt.plot(temp_x, nd / nd.max(), label='power')\n",
    "plt.legend()"
   ]
  },
  {
   "cell_type": "markdown",
   "metadata": {},
   "source": [
    "Temperature data filter"
   ]
  },
  {
   "cell_type": "code",
   "execution_count": null,
   "metadata": {},
   "outputs": [],
   "source": [
    "WINDOW = 20\n",
    "\n",
    "temp_filtered = moving_average(temp_data, WINDOW)\n",
    "datetime_filtered = moving_average(datetime_data, WINDOW).tolist()\n",
    "\n",
    "temp_x = [float(dt.fromtimestamp(item).hour) + float(dt.fromtimestamp(item).minute)/60 for item in datetime_filtered]\n",
    "plot(temp_x, temp_filtered, \"Temp filtered\")"
   ]
  },
  {
   "attachments": {},
   "cell_type": "markdown",
   "metadata": {},
   "source": [
    "Rate of change calculation"
   ]
  },
  {
   "cell_type": "code",
   "execution_count": null,
   "metadata": {},
   "outputs": [],
   "source": [
    "rate_of_change = []\n",
    "roc_datetime = []\n",
    "\n",
    "for i in range(len(datetime_filtered) - 1):\n",
    "    current_date = datetime_filtered[i]\n",
    "    next_date = datetime_filtered[i + 1]\n",
    "    current_temp = temp_filtered[i]\n",
    "    next_temp = temp_filtered[i + 1]\n",
    "\n",
    "    dtime = (next_date - current_date) / 60  # mins\n",
    "    dtemp = next_temp - current_temp\n",
    "    rate_of_change.append(dtemp / dtime)\n",
    "    roc_datetime.append((next_date + current_date) / 2)\n",
    "\n",
    "roc_x = [float(dt.fromtimestamp(item).hour) + float(dt.fromtimestamp(item).minute)/60 for item in roc_datetime]\n",
    "plot(roc_x, rate_of_change, \"Rate of change\")"
   ]
  },
  {
   "cell_type": "code",
   "execution_count": null,
   "metadata": {},
   "outputs": [],
   "source": []
  }
 ],
 "metadata": {
  "kernelspec": {
   "display_name": "torch_gpu",
   "language": "python",
   "name": "python3"
  },
  "language_info": {
   "codemirror_mode": {
    "name": "ipython",
    "version": 3
   },
   "file_extension": ".py",
   "mimetype": "text/x-python",
   "name": "python",
   "nbconvert_exporter": "python",
   "pygments_lexer": "ipython3",
   "version": "3.8.8"
  },
  "orig_nbformat": 4
 },
 "nbformat": 4,
 "nbformat_minor": 2
}
