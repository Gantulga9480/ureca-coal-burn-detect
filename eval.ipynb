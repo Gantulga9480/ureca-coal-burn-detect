{
 "cells": [
  {
   "cell_type": "code",
   "execution_count": null,
   "metadata": {},
   "outputs": [],
   "source": [
    "import torch\n",
    "from model import Model\n",
    "\n",
    "DEVICE = torch.device('cuda:0') if torch.cuda.is_available() else torch.device('cpu')\n",
    "model = Model().to(DEVICE)"
   ]
  },
  {
   "cell_type": "code",
   "execution_count": null,
   "metadata": {},
   "outputs": [],
   "source": [
    "import numpy as np\n",
    "from dataset import MyDataset\n",
    "from torch.utils.data import DataLoader\n",
    "\n",
    "raw_data = np.load('dataset.npy')\n",
    "dataset = MyDataset(raw_data, device=DEVICE)\n",
    "dataloader = DataLoader(dataset, batch_size=len(dataset))\n",
    "\n",
    "import os\n",
    "model_files = []\n",
    "for r, ds, fs in os.walk('models'):\n",
    "    for f in fs:\n",
    "        model_files.append(os.path.join(r, f))\n",
    "\n",
    "metric_acc = []\n",
    "metric_prec = []\n",
    "metrix_rcl = []\n",
    "metric_f1 = []\n",
    "\n",
    "for path in model_files:\n",
    "    model.load_state_dict(torch.load(path))\n",
    "    model.eval()\n",
    "    loss, acc, prec, rcl, f1 = model.validate(dataloader)\n",
    "    metric_acc.append(acc)\n",
    "    metric_prec.append(prec)\n",
    "    metrix_rcl.append(rcl)\n",
    "    metric_f1.append(f1)\n",
    "\n",
    "print(metric_f1)\n",
    "idx = np.argmax(metric_f1)\n",
    "metric_f1[idx], model_files[idx]"
   ]
  },
  {
   "cell_type": "code",
   "execution_count": null,
   "metadata": {},
   "outputs": [],
   "source": [
    "import numpy as np\n",
    "from utils import preprocess\n",
    "\n",
    "dn_list, tn_list, hn_list, annot, date = preprocess(\"dataset/new/test.csv\")"
   ]
  },
  {
   "cell_type": "code",
   "execution_count": null,
   "metadata": {},
   "outputs": [],
   "source": [
    "N = 18\n",
    "\n",
    "preds = []\n",
    "labels = []\n",
    "pred_date = []\n",
    "\n",
    "model = Model().to(DEVICE)\n",
    "# model.load_state_dict(torch.load(model_files[idx]))\n",
    "model.load_state_dict(torch.load('models/1200_model.pt'))\n",
    "model.eval()\n",
    "\n",
    "batch = []\n",
    "for i in range(len(dn_list) - (N - 1)):\n",
    "    data = []\n",
    "    data.append(dn_list[i:i+N])\n",
    "    data.append(tn_list[i:i+N])\n",
    "    data.append(hn_list[i:i+N])\n",
    "    data_T = np.array(data).T\n",
    "\n",
    "    batch.append(data_T)\n",
    "\n",
    "    pred_date.append(date[i:i+N][N - 1])\n",
    "    labels.append(annot[i:i+N][N - 1])\n",
    "    # data_tensor = torch.tensor(data_T).float().unsqueeze(0).to(DEVICE)\n",
    "\n",
    "data_tensor = torch.tensor(batch).float().to(DEVICE)\n",
    "with torch.no_grad():\n",
    "    out = model(data_tensor)\n",
    "for o in out:\n",
    "    print(o.item())\n",
    "# val = out.item()\n",
    "# preds.append(val if val > 0.5 else 0)\n",
    "    # preds.append(val)"
   ]
  },
  {
   "cell_type": "code",
   "execution_count": null,
   "metadata": {},
   "outputs": [],
   "source": [
    "import matplotlib.pyplot as plt\n",
    "start = 0\n",
    "end = 3000\n",
    "plt.figure(figsize=[20, 5])\n",
    "plt.plot(date[start:end], tn_list[start:end], alpha=0.5, label='temp')\n",
    "plt.plot(date[start:end], hn_list[start:end], alpha=0.5, label='humd')\n",
    "# plt.plot(pred_date[start:end], labels[start:end], alpha=1,linewidth=5, label='label', c='b')\n",
    "plt.plot(pred_date[start:end], preds[start:end], alpha=1, linewidth=3, label='pred', c='r')\n",
    "plt.legend()"
   ]
  }
 ],
 "metadata": {
  "kernelspec": {
   "display_name": "torch_gpu",
   "language": "python",
   "name": "python3"
  },
  "language_info": {
   "codemirror_mode": {
    "name": "ipython",
    "version": 3
   },
   "file_extension": ".py",
   "mimetype": "text/x-python",
   "name": "python",
   "nbconvert_exporter": "python",
   "pygments_lexer": "ipython3",
   "version": "3.12.2"
  },
  "orig_nbformat": 4
 },
 "nbformat": 4,
 "nbformat_minor": 2
}
