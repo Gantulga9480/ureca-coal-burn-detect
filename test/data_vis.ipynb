{
 "cells": [
  {
   "cell_type": "code",
   "execution_count": 8,
   "metadata": {},
   "outputs": [],
   "source": [
    "time_table = {\n",
    "    '2023-05-29': ['06:30:00', '18:00:00'],\n",
    "    '2023-05-30': ['07:00:00', '19:00:00'],\n",
    "    '2023-05-31': ['06:00:00', '20:00:00'],\n",
    "    '2023-06-01': ['07:30:00', '18:00:00'],\n",
    "    '2023-06-02': ['08:00:00', '19:00:00'],\n",
    "    '2023-06-03': ['06:00:00', '21:00:00'],\n",
    "    '2023-06-04': ['07:30:00', '22:00:00'],\n",
    "    '2023-06-05': ['05:00:00', '22:00:00'],\n",
    "    '2023-06-06': ['06:00:00', '21:00:00'],\n",
    "}"
   ]
  },
  {
   "cell_type": "code",
   "execution_count": 15,
   "metadata": {},
   "outputs": [],
   "source": [
    "file = '2023-05-29'"
   ]
  },
  {
   "cell_type": "code",
   "execution_count": 16,
   "metadata": {},
   "outputs": [],
   "source": [
    "import csv\n",
    "\n",
    "datetime_data = []\n",
    "temp_data = []\n",
    "\n",
    "with open(f'{file}_raw.csv', 'r') as f:\n",
    "    reader = csv.reader(f)\n",
    "    for row in reader:\n",
    "        d, t = row\n",
    "        datetime_data.append(d)\n",
    "        temp_data.append(float(t))"
   ]
  },
  {
   "cell_type": "code",
   "execution_count": 17,
   "metadata": {},
   "outputs": [],
   "source": [
    "from datetime import datetime as dt\n",
    "\n",
    "morning_datetime = dt.fromisoformat(f'{file} {time_table[file][0]}')\n",
    "evening_datetime = dt.fromisoformat(f'{file} {time_table[file][1]}')\n",
    "\n",
    "morning_diff_lst = []\n",
    "evening_diff_lst = []\n",
    "\n",
    "for item in datetime_data:\n",
    "    d = dt.fromisoformat(item)\n",
    "    m_diff = abs(d.timestamp() - morning_datetime.timestamp())\n",
    "    e_diff = abs(d.timestamp() - evening_datetime.timestamp())\n",
    "    morning_diff_lst.append(m_diff)\n",
    "    evening_diff_lst.append(e_diff)"
   ]
  },
  {
   "cell_type": "code",
   "execution_count": 18,
   "metadata": {},
   "outputs": [
    {
     "name": "stdout",
     "output_type": "stream",
     "text": [
      "['06:30:00', '18:00:00']\n"
     ]
    },
    {
     "data": {
      "text/plain": [
       "('06:30:04', '18:01:57')"
      ]
     },
     "execution_count": 18,
     "metadata": {},
     "output_type": "execute_result"
    }
   ],
   "source": [
    "import numpy as np\n",
    "import matplotlib.pyplot as plt\n",
    "\n",
    "morning_index = np.argmin(morning_diff_lst)\n",
    "evening_index = np.argmin(evening_diff_lst)\n",
    "print(time_table[file])\n",
    "datetime_data[morning_index].split(' ')[1], datetime_data[evening_index].split(' ')[1]"
   ]
  },
  {
   "cell_type": "code",
   "execution_count": 19,
   "metadata": {},
   "outputs": [
    {
     "data": {
      "text/plain": [
       "<matplotlib.lines.Line2D at 0x193876abfd0>"
      ]
     },
     "execution_count": 19,
     "metadata": {},
     "output_type": "execute_result"
    },
    {
     "data": {
      "image/png": "[encoded data removed]",
      "text/plain": [
       "<Figure size 640x480 with 1 Axes>"
      ]
     },
     "metadata": {},
     "output_type": "display_data"
    }
   ],
   "source": [
    "x_data = [float(item.split(' ')[1].split(':')[0]) + float(item.split(' ')[1].split(':')[1])/60 for item in datetime_data]\n",
    "plt.axis([0, 24, None, None])\n",
    "plt.scatter(x_data, temp_data)\n",
    "plt.axvline(x=float(datetime_data[morning_index].split(' ')[1].split(':')[0]) + float(datetime_data[morning_index].split(' ')[1].split(':')[1])/60, color=\"r\")\n",
    "plt.axvline(x=float(datetime_data[evening_index].split(' ')[1].split(':')[0]) + float(datetime_data[evening_index].split(' ')[1].split(':')[1])/60, color=\"r\")"
   ]
  },
  {
   "cell_type": "code",
   "execution_count": 14,
   "metadata": {},
   "outputs": [
    {
     "data": {
      "text/plain": [
       "116"
      ]
     },
     "execution_count": 14,
     "metadata": {},
     "output_type": "execute_result"
    }
   ],
   "source": [
    "len(temp_data)"
   ]
  },
  {
   "cell_type": "code",
   "execution_count": null,
   "metadata": {},
   "outputs": [],
   "source": []
  }
 ],
 "metadata": {
  "kernelspec": {
   "display_name": "torch_gpu",
   "language": "python",
   "name": "python3"
  },
  "language_info": {
   "codemirror_mode": {
    "name": "ipython",
    "version": 3
   },
   "file_extension": ".py",
   "mimetype": "text/x-python",
   "name": "python",
   "nbconvert_exporter": "python",
   "pygments_lexer": "ipython3",
   "version": "3.8.8"
  },
  "orig_nbformat": 4
 },
 "nbformat": 4,
 "nbformat_minor": 2
}
